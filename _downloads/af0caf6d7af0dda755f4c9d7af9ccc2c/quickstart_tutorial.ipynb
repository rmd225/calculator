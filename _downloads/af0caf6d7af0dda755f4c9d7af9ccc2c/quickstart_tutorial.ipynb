{
  "cells": [
    {
      "cell_type": "code",
      "execution_count": 24,
      "metadata": {
        "id": "IBBYGKpb45kD"
      },
      "outputs": [],
      "source": [
        "# For tips on running notebooks in Google Colab, see\n",
        "# https://pytorch.org/tutorials/beginner/colab\n",
        "%matplotlib inline"
      ]
    },
    {
      "cell_type": "markdown",
      "metadata": {
        "id": "k0qDOePz45kE"
      },
      "source": [
        "[Learn the Basics](intro.html) \\|\\| **Quickstart** \\|\\|\n",
        "[Tensors](tensorqs_tutorial.html) \\|\\| [Datasets &\n",
        "DataLoaders](data_tutorial.html) \\|\\|\n",
        "[Transforms](transforms_tutorial.html) \\|\\| [Build\n",
        "Model](buildmodel_tutorial.html) \\|\\|\n",
        "[Autograd](autogradqs_tutorial.html) \\|\\|\n",
        "[Optimization](optimization_tutorial.html) \\|\\| [Save & Load\n",
        "Model](saveloadrun_tutorial.html)\n",
        "\n",
        "Quickstart\n",
        "==========\n",
        "\n",
        "This section runs through the API for common tasks in machine learning.\n",
        "Refer to the links in each section to dive deeper.\n",
        "\n",
        "Working with data\n",
        "-----------------\n",
        "\n",
        "PyTorch has two [primitives to work with\n",
        "data](https://pytorch.org/docs/stable/data.html):\n",
        "`torch.utils.data.DataLoader` and `torch.utils.data.Dataset`. `Dataset`\n",
        "stores the samples and their corresponding labels, and `DataLoader`\n",
        "wraps an iterable around the `Dataset`.\n"
      ]
    },
    {
      "cell_type": "code",
      "execution_count": 2,
      "metadata": {
        "id": "Ankbm5N845kF"
      },
      "outputs": [],
      "source": [
        "import torch\n",
        "from torch import nn\n",
        "from torch.utils.data import DataLoader\n",
        "from torchvision import datasets\n",
        "from torchvision.transforms import ToTensor"
      ]
    },
    {
      "cell_type": "markdown",
      "metadata": {
        "id": "0hNY1q7445kG"
      },
      "source": [
        "PyTorch offers domain-specific libraries such as\n",
        "[TorchText](https://pytorch.org/text/stable/index.html),\n",
        "[TorchVision](https://pytorch.org/vision/stable/index.html), and\n",
        "[TorchAudio](https://pytorch.org/audio/stable/index.html), all of which\n",
        "include datasets. For this tutorial, we will be using a TorchVision\n",
        "dataset.\n",
        "\n",
        "The `torchvision.datasets` module contains `Dataset` objects for many\n",
        "real-world vision data like CIFAR, COCO ([full list\n",
        "here](https://pytorch.org/vision/stable/datasets.html)). In this\n",
        "tutorial, we use the FashionMNIST dataset. Every TorchVision `Dataset`\n",
        "includes two arguments: `transform` and `target_transform` to modify the\n",
        "samples and labels respectively.\n"
      ]
    },
    {
      "cell_type": "code",
      "execution_count": 3,
      "metadata": {
        "colab": {
          "base_uri": "https://localhost:8080/",
          "height": 0
        },
        "id": "nlJzzn_K45kG",
        "outputId": "d6633142-4363-4ea1-b582-312342eb9508"
      },
      "outputs": [
        {
          "output_type": "stream",
          "name": "stdout",
          "text": [
            "Downloading http://fashion-mnist.s3-website.eu-central-1.amazonaws.com/train-images-idx3-ubyte.gz\n",
            "Downloading http://fashion-mnist.s3-website.eu-central-1.amazonaws.com/train-images-idx3-ubyte.gz to data/FashionMNIST/raw/train-images-idx3-ubyte.gz\n"
          ]
        },
        {
          "output_type": "stream",
          "name": "stderr",
          "text": [
            "100%|██████████| 26.4M/26.4M [00:01<00:00, 13.6MB/s]\n"
          ]
        },
        {
          "output_type": "stream",
          "name": "stdout",
          "text": [
            "Extracting data/FashionMNIST/raw/train-images-idx3-ubyte.gz to data/FashionMNIST/raw\n",
            "\n",
            "Downloading http://fashion-mnist.s3-website.eu-central-1.amazonaws.com/train-labels-idx1-ubyte.gz\n",
            "Downloading http://fashion-mnist.s3-website.eu-central-1.amazonaws.com/train-labels-idx1-ubyte.gz to data/FashionMNIST/raw/train-labels-idx1-ubyte.gz\n"
          ]
        },
        {
          "output_type": "stream",
          "name": "stderr",
          "text": [
            "100%|██████████| 29.5k/29.5k [00:00<00:00, 204kB/s]\n"
          ]
        },
        {
          "output_type": "stream",
          "name": "stdout",
          "text": [
            "Extracting data/FashionMNIST/raw/train-labels-idx1-ubyte.gz to data/FashionMNIST/raw\n",
            "\n",
            "Downloading http://fashion-mnist.s3-website.eu-central-1.amazonaws.com/t10k-images-idx3-ubyte.gz\n",
            "Downloading http://fashion-mnist.s3-website.eu-central-1.amazonaws.com/t10k-images-idx3-ubyte.gz to data/FashionMNIST/raw/t10k-images-idx3-ubyte.gz\n"
          ]
        },
        {
          "output_type": "stream",
          "name": "stderr",
          "text": [
            "100%|██████████| 4.42M/4.42M [00:01<00:00, 3.71MB/s]\n"
          ]
        },
        {
          "output_type": "stream",
          "name": "stdout",
          "text": [
            "Extracting data/FashionMNIST/raw/t10k-images-idx3-ubyte.gz to data/FashionMNIST/raw\n",
            "\n",
            "Downloading http://fashion-mnist.s3-website.eu-central-1.amazonaws.com/t10k-labels-idx1-ubyte.gz\n",
            "Downloading http://fashion-mnist.s3-website.eu-central-1.amazonaws.com/t10k-labels-idx1-ubyte.gz to data/FashionMNIST/raw/t10k-labels-idx1-ubyte.gz\n"
          ]
        },
        {
          "output_type": "stream",
          "name": "stderr",
          "text": [
            "100%|██████████| 5.15k/5.15k [00:00<00:00, 7.62MB/s]"
          ]
        },
        {
          "output_type": "stream",
          "name": "stdout",
          "text": [
            "Extracting data/FashionMNIST/raw/t10k-labels-idx1-ubyte.gz to data/FashionMNIST/raw\n",
            "\n"
          ]
        },
        {
          "output_type": "stream",
          "name": "stderr",
          "text": [
            "\n"
          ]
        }
      ],
      "source": [
        "# Download training data from open datasets.\n",
        "training_data = datasets.FashionMNIST(\n",
        "    root=\"data\",\n",
        "    train=True,\n",
        "    download=True,\n",
        "    transform=ToTensor(),\n",
        ")\n",
        "\n",
        "# Download test data from open datasets.\n",
        "test_data = datasets.FashionMNIST(\n",
        "    root=\"data\",\n",
        "    train=False,\n",
        "    download=True,\n",
        "    transform=ToTensor(),\n",
        ")"
      ]
    },
    {
      "cell_type": "markdown",
      "metadata": {
        "id": "B2y1It3y45kG"
      },
      "source": [
        "We pass the `Dataset` as an argument to `DataLoader`. This wraps an\n",
        "\n",
        "*   List item\n",
        "*   List item\n",
        "\n",
        "\n",
        "iterable over our dataset, and supports automatic batching, sampling,\n",
        "shuffling and multiprocess data loading. Here we define a batch size of\n",
        "64, i.e. each element in the dataloader iterable will return a batch of\n",
        "64 features and labels.\n"
      ]
    },
    {
      "cell_type": "code",
      "execution_count": 4,
      "metadata": {
        "colab": {
          "base_uri": "https://localhost:8080/",
          "height": 0
        },
        "id": "akeMtHYR45kG",
        "outputId": "092af665-3f28-42a7-c29e-a4a40b00ed65"
      },
      "outputs": [
        {
          "output_type": "stream",
          "name": "stdout",
          "text": [
            "Shape of X [N, C, H, W]: torch.Size([64, 1, 28, 28])\n",
            "Shape of y: torch.Size([64]) torch.int64\n"
          ]
        }
      ],
      "source": [
        "batch_size = 64\n",
        "\n",
        "# Create data loaders.\n",
        "train_dataloader = DataLoader(training_data, batch_size=batch_size)\n",
        "test_dataloader = DataLoader(test_data, batch_size=batch_size)\n",
        "\n",
        "for X, y in test_dataloader:\n",
        "    print(f\"Shape of X [N, C, H, W]: {X.shape}\")\n",
        "    print(f\"Shape of y: {y.shape} {y.dtype}\")\n",
        "    break"
      ]
    },
    {
      "cell_type": "markdown",
      "metadata": {
        "id": "xDcjrd7J45kH"
      },
      "source": [
        "Read more about [loading data in PyTorch](data_tutorial.html).\n"
      ]
    },
    {
      "cell_type": "markdown",
      "metadata": {
        "id": "l1xuyxrv45kH"
      },
      "source": [
        "------------------------------------------------------------------------\n"
      ]
    },
    {
      "cell_type": "markdown",
      "metadata": {
        "id": "G9FGz46R45kH"
      },
      "source": [
        "Creating Models\n",
        "===============\n",
        "\n",
        "To define a neural network in PyTorch, we create a class that inherits\n",
        "from\n",
        "[nn.Module](https://pytorch.org/docs/stable/generated/torch.nn.Module.html).\n",
        "We define the layers of the network in the `__init__` function and\n",
        "specify how data will pass through the network in the `forward`\n",
        "function. To accelerate operations in the neural network, we move it to\n",
        "the GPU or MPS if available.\n"
      ]
    },
    {
      "cell_type": "code",
      "execution_count": 5,
      "metadata": {
        "colab": {
          "base_uri": "https://localhost:8080/",
          "height": 0
        },
        "id": "G3P-FpWm45kI",
        "outputId": "2f0776f6-8da9-4310-edd0-31231d13c90b"
      },
      "outputs": [
        {
          "output_type": "stream",
          "name": "stdout",
          "text": [
            "Using cuda device\n",
            "NeuralNetwork(\n",
            "  (flatten): Flatten(start_dim=1, end_dim=-1)\n",
            "  (linear_relu_stack): Sequential(\n",
            "    (0): Linear(in_features=784, out_features=512, bias=True)\n",
            "    (1): ReLU()\n",
            "    (2): Linear(in_features=512, out_features=512, bias=True)\n",
            "    (3): ReLU()\n",
            "    (4): Linear(in_features=512, out_features=10, bias=True)\n",
            "  )\n",
            ")\n"
          ]
        }
      ],
      "source": [
        "# Get cpu, gpu or mps device for training.\n",
        "device = (\n",
        "    \"cuda\"\n",
        "    if torch.cuda.is_available()\n",
        "    else \"mps\"\n",
        "    if torch.backends.mps.is_available()\n",
        "    else \"cpu\"\n",
        ")\n",
        "print(f\"Using {device} device\")\n",
        "\n",
        "# Define model\n",
        "class NeuralNetwork(nn.Module):\n",
        "    def __init__(self):\n",
        "        super().__init__()\n",
        "        self.flatten = nn.Flatten()\n",
        "        self.linear_relu_stack = nn.Sequential(\n",
        "            nn.Linear(28*28, 512),\n",
        "            nn.ReLU(),\n",
        "            nn.Linear(512, 512),\n",
        "            nn.ReLU(),\n",
        "            nn.Linear(512, 10)\n",
        "        )\n",
        "\n",
        "    def forward(self, x):\n",
        "        x = self.flatten(x)\n",
        "        logits = self.linear_relu_stack(x)\n",
        "        return logits\n",
        "\n",
        "model = NeuralNetwork().to(device)\n",
        "print(model)"
      ]
    },
    {
      "cell_type": "markdown",
      "metadata": {
        "id": "Tj-yIEnn45kI"
      },
      "source": [
        "Read more about [building neural networks in\n",
        "PyTorch](buildmodel_tutorial.html).\n"
      ]
    },
    {
      "cell_type": "markdown",
      "metadata": {
        "id": "NiqZvKJ545kI"
      },
      "source": [
        "------------------------------------------------------------------------\n"
      ]
    },
    {
      "cell_type": "markdown",
      "metadata": {
        "id": "VhzP0xGs45kI"
      },
      "source": [
        "Optimizing the Model Parameters\n",
        "===============================\n",
        "\n",
        "To train a model, we need a [loss\n",
        "function](https://pytorch.org/docs/stable/nn.html#loss-functions) and an\n",
        "[optimizer](https://pytorch.org/docs/stable/optim.html).\n"
      ]
    },
    {
      "cell_type": "code",
      "execution_count": 5,
      "metadata": {
        "id": "ETrsHY3d45kI"
      },
      "outputs": [],
      "source": [
        "loss_fn = nn.CrossEntropyLoss()\n",
        "optimizer = torch.optim.SGD(model.parameters(), lr=1e-3)"
      ]
    },
    {
      "cell_type": "markdown",
      "metadata": {
        "id": "VUp5Mq3R45kJ"
      },
      "source": [
        "In a single training loop, the model makes predictions on the training\n",
        "dataset (fed to it in batches), and backpropagates the prediction error\n",
        "to adjust the model\\'s parameters.\n"
      ]
    },
    {
      "cell_type": "code",
      "execution_count": 16,
      "metadata": {
        "id": "8IpQb9vh45kJ"
      },
      "outputs": [],
      "source": [
        "def train(dataloader, model, loss_fn, optimizer):\n",
        "    size = len(dataloader.dataset)\n",
        "    model.train()\n",
        "    for batch, (X, y) in enumerate(dataloader):\n",
        "        X, y = X.to(device), y.to(device)\n",
        "\n",
        "        # Compute prediction error\n",
        "        pred = model(X)\n",
        "        loss = loss_fn(pred, y)\n",
        "\n",
        "        # Backpropagation\n",
        "        loss.backward()\n",
        "        optimizer.step()\n",
        "        optimizer.zero_grad()\n",
        "\n",
        "        if batch % 100 == 0:\n",
        "            loss, current = loss.item(), (batch + 1) * len(X)\n",
        "            print(f\"loss: {loss:>7f}  [{current:>5d}/{size:>5d}]\")"
      ]
    },
    {
      "cell_type": "markdown",
      "metadata": {
        "id": "Y_ZdbtGQ45kJ"
      },
      "source": [
        "We also check the model\\'s performance against the test dataset to\n",
        "ensure it is learning.\n"
      ]
    },
    {
      "cell_type": "code",
      "execution_count": 17,
      "metadata": {
        "id": "u3C_YjNr45kJ"
      },
      "outputs": [],
      "source": [
        "def test(dataloader, model, loss_fn):\n",
        "    size = len(dataloader.dataset)\n",
        "    num_batches = len(dataloader)\n",
        "    model.eval()\n",
        "    test_loss, correct = 0, 0\n",
        "    with torch.no_grad():\n",
        "        for X, y in dataloader:\n",
        "            X, y = X.to(device), y.to(device)\n",
        "            pred = model(X)\n",
        "            test_loss += loss_fn(pred, y).item()\n",
        "            correct += (pred.argmax(1) == y).type(torch.float).sum().item()\n",
        "    test_loss /= num_batches\n",
        "    correct /= size\n",
        "    print(f\"Test Error: \\n Accuracy: {(100*correct):>0.1f}%, Avg loss: {test_loss:>8f} \\n\")"
      ]
    },
    {
      "cell_type": "markdown",
      "metadata": {
        "id": "PqB-jyew45kJ"
      },
      "source": [
        "The training process is conducted over several iterations (*epochs*).\n",
        "During each epoch, the model learns parameters to make better\n",
        "predictions. We print the model\\'s accuracy and loss at each epoch;\n",
        "we\\'d like to see the accuracy increase and the loss decrease with every\n",
        "epoch.\n"
      ]
    },
    {
      "cell_type": "code",
      "source": [],
      "metadata": {
        "id": "p1qb8U1H-50J"
      },
      "execution_count": null,
      "outputs": []
    },
    {
      "cell_type": "code",
      "execution_count": 9,
      "metadata": {
        "colab": {
          "base_uri": "https://localhost:8080/",
          "height": 0
        },
        "id": "DfRNkNAO45kJ",
        "outputId": "8dc1d584-3f56-4cf1-ab89-a6d09d23169d"
      },
      "outputs": [
        {
          "output_type": "stream",
          "name": "stdout",
          "text": [
            "Epoch 1\n",
            "-------------------------------\n",
            "loss: 1.155299  [   64/60000]\n",
            "loss: 1.164929  [ 6464/60000]\n",
            "loss: 0.979922  [12864/60000]\n",
            "loss: 1.120829  [19264/60000]\n",
            "loss: 0.983572  [25664/60000]\n",
            "loss: 1.021125  [32064/60000]\n",
            "loss: 1.054129  [38464/60000]\n",
            "loss: 0.999708  [44864/60000]\n",
            "loss: 1.038038  [51264/60000]\n",
            "loss: 0.966823  [57664/60000]\n",
            "Test Error: \n",
            " Accuracy: 66.0%, Avg loss: 0.982746 \n",
            "\n",
            "Epoch 2\n",
            "-------------------------------\n",
            "loss: 1.038210  [   64/60000]\n",
            "loss: 1.068445  [ 6464/60000]\n",
            "loss: 0.868135  [12864/60000]\n",
            "loss: 1.030738  [19264/60000]\n",
            "loss: 0.894167  [25664/60000]\n",
            "loss: 0.927623  [32064/60000]\n",
            "loss: 0.978234  [38464/60000]\n",
            "loss: 0.927060  [44864/60000]\n",
            "loss: 0.958389  [51264/60000]\n",
            "loss: 0.901708  [57664/60000]\n",
            "Test Error: \n",
            " Accuracy: 67.4%, Avg loss: 0.910469 \n",
            "\n",
            "Epoch 3\n",
            "-------------------------------\n",
            "loss: 0.951328  [   64/60000]\n",
            "loss: 1.000977  [ 6464/60000]\n",
            "loss: 0.787645  [12864/60000]\n",
            "loss: 0.966171  [19264/60000]\n",
            "loss: 0.833708  [25664/60000]\n",
            "loss: 0.858590  [32064/60000]\n",
            "loss: 0.924309  [38464/60000]\n",
            "loss: 0.877983  [44864/60000]\n",
            "loss: 0.900274  [51264/60000]\n",
            "loss: 0.853629  [57664/60000]\n",
            "Test Error: \n",
            " Accuracy: 68.3%, Avg loss: 0.857896 \n",
            "\n",
            "Epoch 4\n",
            "-------------------------------\n",
            "loss: 0.884432  [   64/60000]\n",
            "loss: 0.949698  [ 6464/60000]\n",
            "loss: 0.727248  [12864/60000]\n",
            "loss: 0.917333  [19264/60000]\n",
            "loss: 0.790545  [25664/60000]\n",
            "loss: 0.806075  [32064/60000]\n",
            "loss: 0.883077  [38464/60000]\n",
            "loss: 0.843598  [44864/60000]\n",
            "loss: 0.856385  [51264/60000]\n",
            "loss: 0.815967  [57664/60000]\n",
            "Test Error: \n",
            " Accuracy: 69.8%, Avg loss: 0.817775 \n",
            "\n",
            "Epoch 5\n",
            "-------------------------------\n",
            "loss: 0.830925  [   64/60000]\n",
            "loss: 0.908004  [ 6464/60000]\n",
            "loss: 0.679758  [12864/60000]\n",
            "loss: 0.878945  [19264/60000]\n",
            "loss: 0.757894  [25664/60000]\n",
            "loss: 0.765415  [32064/60000]\n",
            "loss: 0.849428  [38464/60000]\n",
            "loss: 0.818168  [44864/60000]\n",
            "loss: 0.822233  [51264/60000]\n",
            "loss: 0.785070  [57664/60000]\n",
            "Test Error: \n",
            " Accuracy: 71.0%, Avg loss: 0.785787 \n",
            "\n",
            "Epoch 6\n",
            "-------------------------------\n",
            "loss: 0.786442  [   64/60000]\n",
            "loss: 0.872446  [ 6464/60000]\n",
            "loss: 0.641128  [12864/60000]\n",
            "loss: 0.847894  [19264/60000]\n",
            "loss: 0.732077  [25664/60000]\n",
            "loss: 0.733406  [32064/60000]\n",
            "loss: 0.820674  [38464/60000]\n",
            "loss: 0.798231  [44864/60000]\n",
            "loss: 0.794729  [51264/60000]\n",
            "loss: 0.758907  [57664/60000]\n",
            "Test Error: \n",
            " Accuracy: 72.3%, Avg loss: 0.759279 \n",
            "\n",
            "Epoch 7\n",
            "-------------------------------\n",
            "loss: 0.748537  [   64/60000]\n",
            "loss: 0.841047  [ 6464/60000]\n",
            "loss: 0.608685  [12864/60000]\n",
            "loss: 0.822263  [19264/60000]\n",
            "loss: 0.710626  [25664/60000]\n",
            "loss: 0.707566  [32064/60000]\n",
            "loss: 0.795170  [38464/60000]\n",
            "loss: 0.781505  [44864/60000]\n",
            "loss: 0.771998  [51264/60000]\n",
            "loss: 0.736090  [57664/60000]\n",
            "Test Error: \n",
            " Accuracy: 73.4%, Avg loss: 0.736489 \n",
            "\n",
            "Epoch 8\n",
            "-------------------------------\n",
            "loss: 0.715507  [   64/60000]\n",
            "loss: 0.812633  [ 6464/60000]\n",
            "loss: 0.580739  [12864/60000]\n",
            "loss: 0.800564  [19264/60000]\n",
            "loss: 0.692215  [25664/60000]\n",
            "loss: 0.686073  [32064/60000]\n",
            "loss: 0.771988  [38464/60000]\n",
            "loss: 0.766696  [44864/60000]\n",
            "loss: 0.752467  [51264/60000]\n",
            "loss: 0.715823  [57664/60000]\n",
            "Test Error: \n",
            " Accuracy: 74.4%, Avg loss: 0.716284 \n",
            "\n",
            "Epoch 9\n",
            "-------------------------------\n",
            "loss: 0.686157  [   64/60000]\n",
            "loss: 0.786485  [ 6464/60000]\n",
            "loss: 0.556279  [12864/60000]\n",
            "loss: 0.781637  [19264/60000]\n",
            "loss: 0.676057  [25664/60000]\n",
            "loss: 0.667856  [32064/60000]\n",
            "loss: 0.750471  [38464/60000]\n",
            "loss: 0.753249  [44864/60000]\n",
            "loss: 0.735454  [51264/60000]\n",
            "loss: 0.697404  [57664/60000]\n",
            "Test Error: \n",
            " Accuracy: 75.2%, Avg loss: 0.697983 \n",
            "\n",
            "Epoch 10\n",
            "-------------------------------\n",
            "loss: 0.659800  [   64/60000]\n",
            "loss: 0.762256  [ 6464/60000]\n",
            "loss: 0.534658  [12864/60000]\n",
            "loss: 0.764708  [19264/60000]\n",
            "loss: 0.661683  [25664/60000]\n",
            "loss: 0.652201  [32064/60000]\n",
            "loss: 0.730315  [38464/60000]\n",
            "loss: 0.740908  [44864/60000]\n",
            "loss: 0.720453  [51264/60000]\n",
            "loss: 0.680426  [57664/60000]\n",
            "Test Error: \n",
            " Accuracy: 76.0%, Avg loss: 0.681207 \n",
            "\n",
            "Done!\n"
          ]
        }
      ],
      "source": [
        "epochs = 10 #increase epochs 5 -> 10\n",
        "for t in range(epochs):\n",
        "    print(f\"Epoch {t+1}\\n-------------------------------\")\n",
        "    train(train_dataloader, model, loss_fn, optimizer)\n",
        "    test(test_dataloader, model, loss_fn)\n",
        "print(\"Done!\")"
      ]
    },
    {
      "cell_type": "markdown",
      "metadata": {
        "id": "Ki9zFpHd45kJ"
      },
      "source": [
        "Read more about [Training your model](optimization_tutorial.html).\n"
      ]
    },
    {
      "cell_type": "markdown",
      "source": [],
      "metadata": {
        "id": "12odp5ic9Pvl"
      }
    },
    {
      "cell_type": "markdown",
      "metadata": {
        "id": "x4K5AlxO45kJ"
      },
      "source": [
        "------------------------------------------------------------------------\n"
      ]
    },
    {
      "cell_type": "markdown",
      "source": [
        "**Why epochs improve accuracy:**\n",
        "\n",
        "Epochs are a fundamental part of the training process for neural networks and other machine learning algorithms. They represent the number of times the entire dataset is passed through the algorithm. The right number of epochs is crucial for the model to learn effectively without overfitting. Therefore, accuracy tends to increase with the number of epochs, as the model continues to refine its understanding of the training data."
      ],
      "metadata": {
        "id": "6rCxsYHL8oyJ"
      }
    },
    {
      "cell_type": "markdown",
      "metadata": {
        "id": "tgCwcogh45kJ"
      },
      "source": [
        "Saving Models\n",
        "=============\n",
        "\n",
        "A common way to save a model is to serialize the internal state\n",
        "dictionary (containing the model parameters).\n"
      ]
    },
    {
      "cell_type": "code",
      "execution_count": 10,
      "metadata": {
        "colab": {
          "base_uri": "https://localhost:8080/",
          "height": 0
        },
        "id": "XT-ApD3p45kJ",
        "outputId": "c8ee797e-bf86-4685-cdfa-0d03a4973732"
      },
      "outputs": [
        {
          "output_type": "stream",
          "name": "stdout",
          "text": [
            "Saved PyTorch Model State to model.pth\n"
          ]
        }
      ],
      "source": [
        "torch.save(model.state_dict(), \"model.pth\")\n",
        "print(\"Saved PyTorch Model State to model.pth\")"
      ]
    },
    {
      "cell_type": "markdown",
      "metadata": {
        "id": "POV8spNE45kJ"
      },
      "source": [
        "Loading Models\n",
        "==============\n",
        "\n",
        "The process for loading a model includes re-creating the model structure\n",
        "and loading the state dictionary into it.\n"
      ]
    },
    {
      "cell_type": "code",
      "execution_count": 11,
      "metadata": {
        "colab": {
          "base_uri": "https://localhost:8080/",
          "height": 0
        },
        "id": "khroeqQN45kJ",
        "outputId": "885cc2f6-216f-4a82-f343-4c9f82ace05d"
      },
      "outputs": [
        {
          "output_type": "execute_result",
          "data": {
            "text/plain": [
              "<All keys matched successfully>"
            ]
          },
          "metadata": {},
          "execution_count": 11
        }
      ],
      "source": [
        "model = NeuralNetwork().to(device)\n",
        "model.load_state_dict(torch.load(\"model.pth\", weights_only=True))"
      ]
    },
    {
      "cell_type": "markdown",
      "metadata": {
        "id": "3L6QTeDz45kJ"
      },
      "source": [
        "This model can now be used to make predictions.\n"
      ]
    },
    {
      "cell_type": "code",
      "execution_count": 12,
      "metadata": {
        "colab": {
          "base_uri": "https://localhost:8080/",
          "height": 0
        },
        "id": "g1vXCf8g45kJ",
        "outputId": "b820668d-79c7-4cc4-d92d-e286228b05d1"
      },
      "outputs": [
        {
          "output_type": "stream",
          "name": "stdout",
          "text": [
            "Predicted: \"Ankle boot\", Actual: \"Ankle boot\"\n"
          ]
        }
      ],
      "source": [
        "classes = [\n",
        "    \"T-shirt/top\",\n",
        "    \"Trouser\",\n",
        "    \"Pullover\",\n",
        "    \"Dress\",\n",
        "    \"Coat\",\n",
        "    \"Sandal\",\n",
        "    \"Shirt\",\n",
        "    \"Sneaker\",\n",
        "    \"Bag\",\n",
        "    \"Ankle boot\",\n",
        "]\n",
        "\n",
        "model.eval()\n",
        "x, y = test_data[0][0], test_data[0][1]\n",
        "with torch.no_grad():\n",
        "    x = x.to(device)\n",
        "    pred = model(x)\n",
        "    predicted, actual = classes[pred[0].argmax(0)], classes[y]\n",
        "    print(f'Predicted: \"{predicted}\", Actual: \"{actual}\"')"
      ]
    },
    {
      "cell_type": "markdown",
      "metadata": {
        "id": "yisQq8-R45kJ"
      },
      "source": [
        "Read more about [Saving & Loading your\n",
        "model](saveloadrun_tutorial.html).\n"
      ]
    },
    {
      "cell_type": "code",
      "source": [
        "#MyNetwork1\n",
        "\n",
        "class MyNetwork1(nn.Module):\n",
        "    def __init__(self):\n",
        "        super().__init__()\n",
        "        self.flatten = nn.Flatten()\n",
        "        self.linear_relu_stack = nn.Sequential(\n",
        "            nn.Linear(28*28, 4096),  # Increase from 512 to 2048\n",
        "            nn.ReLU(),\n",
        "            nn.Linear(4096, 4096),  # Increase from 512 to 2048\n",
        "            nn.ReLU(),\n",
        "            nn.Linear(4096, 10)     # Output size remains 10\n",
        "        )\n",
        "    def forward(self, x):\n",
        "       x = self.flatten(x)\n",
        "       logits = self.linear_relu_stack(x)\n",
        "       return logits\n",
        "\n",
        "modelNew = MyNetwork1().to(device)\n",
        "print(modelNew)\n",
        "\n",
        "\n",
        "#modelNew = MyNetwork1()\n",
        "\n",
        "loss_fn = nn.CrossEntropyLoss()\n",
        "optimizer = torch.optim.SGD(modelNew.parameters(), lr=1e-3)\n",
        "\n"
      ],
      "metadata": {
        "colab": {
          "base_uri": "https://localhost:8080/",
          "height": 0
        },
        "id": "3ZGmXNF69ZBH",
        "outputId": "c31ff1b1-1eea-447f-8d53-2f272e80f6bd"
      },
      "execution_count": 11,
      "outputs": [
        {
          "output_type": "stream",
          "name": "stdout",
          "text": [
            "MyNetwork1(\n",
            "  (flatten): Flatten(start_dim=1, end_dim=-1)\n",
            "  (linear_relu_stack): Sequential(\n",
            "    (0): Linear(in_features=784, out_features=4096, bias=True)\n",
            "    (1): ReLU()\n",
            "    (2): Linear(in_features=4096, out_features=4096, bias=True)\n",
            "    (3): ReLU()\n",
            "    (4): Linear(in_features=4096, out_features=10, bias=True)\n",
            "  )\n",
            ")\n"
          ]
        }
      ]
    },
    {
      "cell_type": "code",
      "source": [
        "def test(dataloader, modelNew, loss_fn):\n",
        "    size = len(dataloader.dataset)\n",
        "    num_batches = len(dataloader)\n",
        "    modelNew.eval()\n",
        "    test_loss, correct = 0, 0\n",
        "    with torch.no_grad():\n",
        "        for X, y in dataloader:\n",
        "            X, y = X.to(device), y.to(device)\n",
        "            pred = modelNew(X)\n",
        "            test_loss += loss_fn(pred, y).item()\n",
        "            correct += (pred.argmax(1) == y).type(torch.float).sum().item()\n",
        "    test_loss /= num_batches\n",
        "    correct /= size\n",
        "    print(f\"Test Error: \\n Accuracy: {(100*correct):>0.1f}%, Avg loss: {test_loss:>8f} \\n\")"
      ],
      "metadata": {
        "id": "DeVQd_iAALKE"
      },
      "execution_count": 12,
      "outputs": []
    },
    {
      "cell_type": "code",
      "source": [
        "def train(dataloader, modelNew, loss_fn, optimizer):\n",
        "    size = len(dataloader.dataset)\n",
        "    modelNew.train()\n",
        "    for batch, (X, y) in enumerate(dataloader):\n",
        "        X, y = X.to(device), y.to(device)\n",
        "\n",
        "        # Compute prediction error\n",
        "        pred = modelNew(X)\n",
        "        loss = loss_fn(pred, y)\n",
        "\n",
        "        # Backpropagation\n",
        "        loss.backward()\n",
        "        optimizer.step()\n",
        "        optimizer.zero_grad()\n",
        "\n",
        "        if batch % 100 == 0:\n",
        "            loss, current = loss.item(), (batch + 1) * len(X)\n",
        "            print(f\"loss: {loss:>7f}  [{current:>5d}/{size:>5d}]\")"
      ],
      "metadata": {
        "id": "5AmAR06LsZBO"
      },
      "execution_count": 13,
      "outputs": []
    },
    {
      "cell_type": "code",
      "source": [
        "epochs = 10 #increase epochs 5 -> 10\n",
        "for t in range(epochs):\n",
        "    print(f\"Epoch {t+1}\\n-------------------------------\")\n",
        "    train(train_dataloader, modelNew, loss_fn, optimizer)\n",
        "    test(test_dataloader, modelNew, loss_fn)\n",
        "print(\"Done!\")"
      ],
      "metadata": {
        "colab": {
          "base_uri": "https://localhost:8080/",
          "height": 0
        },
        "id": "hpkE7VMD-8dq",
        "outputId": "7fdeb515-122e-417a-f0ac-647af7e33cba"
      },
      "execution_count": 14,
      "outputs": [
        {
          "output_type": "stream",
          "name": "stdout",
          "text": [
            "Epoch 1\n",
            "-------------------------------\n",
            "loss: 2.304453  [   64/60000]\n",
            "loss: 2.253438  [ 6464/60000]\n",
            "loss: 2.175266  [12864/60000]\n",
            "loss: 2.157633  [19264/60000]\n",
            "loss: 2.086793  [25664/60000]\n",
            "loss: 1.996415  [32064/60000]\n",
            "loss: 2.003506  [38464/60000]\n",
            "loss: 1.889857  [44864/60000]\n",
            "loss: 1.881375  [51264/60000]\n",
            "loss: 1.769673  [57664/60000]\n",
            "Test Error: \n",
            " Accuracy: 63.2%, Avg loss: 1.767478 \n",
            "\n",
            "Epoch 2\n",
            "-------------------------------\n",
            "loss: 1.807894  [   64/60000]\n",
            "loss: 1.759069  [ 6464/60000]\n",
            "loss: 1.594991  [12864/60000]\n",
            "loss: 1.649389  [19264/60000]\n",
            "loss: 1.497761  [25664/60000]\n",
            "loss: 1.455394  [32064/60000]\n",
            "loss: 1.460659  [38464/60000]\n",
            "loss: 1.353465  [44864/60000]\n",
            "loss: 1.368220  [51264/60000]\n",
            "loss: 1.255302  [57664/60000]\n",
            "Test Error: \n",
            " Accuracy: 65.2%, Avg loss: 1.281102 \n",
            "\n",
            "Epoch 3\n",
            "-------------------------------\n",
            "loss: 1.339703  [   64/60000]\n",
            "loss: 1.326911  [ 6464/60000]\n",
            "loss: 1.138635  [12864/60000]\n",
            "loss: 1.262207  [19264/60000]\n",
            "loss: 1.107603  [25664/60000]\n",
            "loss: 1.119112  [32064/60000]\n",
            "loss: 1.144392  [38464/60000]\n",
            "loss: 1.066063  [44864/60000]\n",
            "loss: 1.094948  [51264/60000]\n",
            "loss: 1.014576  [57664/60000]\n",
            "Test Error: \n",
            " Accuracy: 66.7%, Avg loss: 1.035011 \n",
            "\n",
            "Epoch 4\n",
            "-------------------------------\n",
            "loss: 1.078277  [   64/60000]\n",
            "loss: 1.106425  [ 6464/60000]\n",
            "loss: 0.901817  [12864/60000]\n",
            "loss: 1.071912  [19264/60000]\n",
            "loss: 0.924564  [25664/60000]\n",
            "loss: 0.947391  [32064/60000]\n",
            "loss: 0.994906  [38464/60000]\n",
            "loss: 0.925749  [44864/60000]\n",
            "loss: 0.957735  [51264/60000]\n",
            "loss: 0.898824  [57664/60000]\n",
            "Test Error: \n",
            " Accuracy: 69.2%, Avg loss: 0.908767 \n",
            "\n",
            "Epoch 5\n",
            "-------------------------------\n",
            "loss: 0.930189  [   64/60000]\n",
            "loss: 0.989731  [ 6464/60000]\n",
            "loss: 0.768972  [12864/60000]\n",
            "loss: 0.967371  [19264/60000]\n",
            "loss: 0.829907  [25664/60000]\n",
            "loss: 0.847662  [32064/60000]\n",
            "loss: 0.910975  [38464/60000]\n",
            "loss: 0.848187  [44864/60000]\n",
            "loss: 0.877553  [51264/60000]\n",
            "loss: 0.830796  [57664/60000]\n",
            "Test Error: \n",
            " Accuracy: 71.7%, Avg loss: 0.832744 \n",
            "\n",
            "Epoch 6\n",
            "-------------------------------\n",
            "loss: 0.833586  [   64/60000]\n",
            "loss: 0.915547  [ 6464/60000]\n",
            "loss: 0.684224  [12864/60000]\n",
            "loss: 0.901311  [19264/60000]\n",
            "loss: 0.772644  [25664/60000]\n",
            "loss: 0.782234  [32064/60000]\n",
            "loss: 0.854955  [38464/60000]\n",
            "loss: 0.800096  [44864/60000]\n",
            "loss: 0.824435  [51264/60000]\n",
            "loss: 0.783897  [57664/60000]\n",
            "Test Error: \n",
            " Accuracy: 73.4%, Avg loss: 0.780449 \n",
            "\n",
            "Epoch 7\n",
            "-------------------------------\n",
            "loss: 0.763421  [   64/60000]\n",
            "loss: 0.860402  [ 6464/60000]\n",
            "loss: 0.624680  [12864/60000]\n",
            "loss: 0.854671  [19264/60000]\n",
            "loss: 0.733034  [25664/60000]\n",
            "loss: 0.735319  [32064/60000]\n",
            "loss: 0.812276  [38464/60000]\n",
            "loss: 0.767152  [44864/60000]\n",
            "loss: 0.785935  [51264/60000]\n",
            "loss: 0.747621  [57664/60000]\n",
            "Test Error: \n",
            " Accuracy: 74.6%, Avg loss: 0.740843 \n",
            "\n",
            "Epoch 8\n",
            "-------------------------------\n",
            "loss: 0.709023  [   64/60000]\n",
            "loss: 0.815312  [ 6464/60000]\n",
            "loss: 0.579871  [12864/60000]\n",
            "loss: 0.818926  [19264/60000]\n",
            "loss: 0.702814  [25664/60000]\n",
            "loss: 0.699677  [32064/60000]\n",
            "loss: 0.776978  [38464/60000]\n",
            "loss: 0.742905  [44864/60000]\n",
            "loss: 0.756334  [51264/60000]\n",
            "loss: 0.717413  [57664/60000]\n",
            "Test Error: \n",
            " Accuracy: 75.7%, Avg loss: 0.708923 \n",
            "\n",
            "Epoch 9\n",
            "-------------------------------\n",
            "loss: 0.665207  [   64/60000]\n",
            "loss: 0.776546  [ 6464/60000]\n",
            "loss: 0.544667  [12864/60000]\n",
            "loss: 0.790109  [19264/60000]\n",
            "loss: 0.678419  [25664/60000]\n",
            "loss: 0.671603  [32064/60000]\n",
            "loss: 0.746423  [38464/60000]\n",
            "loss: 0.724275  [44864/60000]\n",
            "loss: 0.732951  [51264/60000]\n",
            "loss: 0.691218  [57664/60000]\n",
            "Test Error: \n",
            " Accuracy: 76.8%, Avg loss: 0.682238 \n",
            "\n",
            "Epoch 10\n",
            "-------------------------------\n",
            "loss: 0.629097  [   64/60000]\n",
            "loss: 0.742517  [ 6464/60000]\n",
            "loss: 0.516109  [12864/60000]\n",
            "loss: 0.766044  [19264/60000]\n",
            "loss: 0.657987  [25664/60000]\n",
            "loss: 0.648734  [32064/60000]\n",
            "loss: 0.719406  [38464/60000]\n",
            "loss: 0.709641  [44864/60000]\n",
            "loss: 0.714307  [51264/60000]\n",
            "loss: 0.668010  [57664/60000]\n",
            "Test Error: \n",
            " Accuracy: 77.7%, Avg loss: 0.659459 \n",
            "\n",
            "Done!\n"
          ]
        }
      ]
    },
    {
      "cell_type": "markdown",
      "source": [
        "We see a small change in the accruacy by making the hidden layer larger. I increased it from 512 to 4096 (8x fold), yet the accuracy at epoch 10 only increased by 1-2%. Perhaps this is because NN  can already learn most of the dataset's complexity when the hidden layers are sufficiently large (EX, 512 units).\n"
      ],
      "metadata": {
        "id": "NXCJIIjeDk_o"
      }
    },
    {
      "cell_type": "markdown",
      "source": [
        "**MyNetwork2:**"
      ],
      "metadata": {
        "id": "9Xb-3cXxFgOG"
      }
    },
    {
      "cell_type": "code",
      "source": [
        "#MyNetwork2\n",
        "\n",
        "class MyNetwork2(nn.Module):\n",
        "    def __init__(self):\n",
        "        super().__init__()\n",
        "        self.flatten = nn.Flatten()\n",
        "        self.linear_relu_stack = nn.Sequential(\n",
        "             nn.Linear(28*28, 4096),  # Input layer\n",
        "            nn.ReLU(),\n",
        "            nn.Linear(4096, 4096),    # Hidden layer 1\n",
        "            nn.ReLU(),\n",
        "            nn.Linear(4096, 4096),    # Hidden layer 2\n",
        "            nn.ReLU(),\n",
        "            # nn.Linear(512, 512),    # Hidden layer 3\n",
        "            # nn.ReLU(),\n",
        "            # nn.Linear(512, 512),    # Hidden layer 4\n",
        "            # nn.ReLU(),\n",
        "            # nn.Linear(512, 512),    # Hidden layer 4\n",
        "            # nn.ReLU(),\n",
        "            nn.Linear(4096, 10)      # Output layer\n",
        "        )\n",
        "    def forward(self, x):\n",
        "       x = self.flatten(x)\n",
        "       logits = self.linear_relu_stack(x)\n",
        "       return logits\n",
        "\n",
        "modelNew2 = MyNetwork2().to(device)\n",
        "print(modelNew2)\n",
        "\n",
        "\n",
        "#modelNew = MyNetwork1()\n",
        "\n",
        "loss_fn = nn.CrossEntropyLoss()\n",
        "optimizer = torch.optim.SGD(modelNew2.parameters(), lr=1e-3)\n"
      ],
      "metadata": {
        "colab": {
          "base_uri": "https://localhost:8080/",
          "height": 0
        },
        "id": "xIo1etBnE5bV",
        "outputId": "7301e0c1-0099-4c7d-cbc7-ef1846aca362"
      },
      "execution_count": 36,
      "outputs": [
        {
          "output_type": "stream",
          "name": "stdout",
          "text": [
            "MyNetwork2(\n",
            "  (flatten): Flatten(start_dim=1, end_dim=-1)\n",
            "  (linear_relu_stack): Sequential(\n",
            "    (0): Linear(in_features=784, out_features=4096, bias=True)\n",
            "    (1): ReLU()\n",
            "    (2): Linear(in_features=4096, out_features=4096, bias=True)\n",
            "    (3): ReLU()\n",
            "    (4): Linear(in_features=4096, out_features=4096, bias=True)\n",
            "    (5): ReLU()\n",
            "    (6): Linear(in_features=4096, out_features=10, bias=True)\n",
            "  )\n",
            ")\n"
          ]
        }
      ]
    },
    {
      "cell_type": "code",
      "source": [
        "def test(dataloader, modelNew2, loss_fn):\n",
        "    size = len(dataloader.dataset)\n",
        "    num_batches = len(dataloader)\n",
        "    modelNew2.eval()\n",
        "    test_loss, correct = 0, 0\n",
        "    with torch.no_grad():\n",
        "        for X, y in dataloader:\n",
        "            X, y = X.to(device), y.to(device)\n",
        "            pred = modelNew2(X)\n",
        "            test_loss += loss_fn(pred, y).item()\n",
        "            correct += (pred.argmax(1) == y).type(torch.float).sum().item()\n",
        "    test_loss /= num_batches\n",
        "    correct /= size\n",
        "    print(f\"Test Error: \\n Accuracy: {(100*correct):>0.1f}%, Avg loss: {test_loss:>8f} \\n\")"
      ],
      "metadata": {
        "id": "p7yDzLGgFUHf"
      },
      "execution_count": 38,
      "outputs": []
    },
    {
      "cell_type": "code",
      "source": [
        "def train(dataloader, modelNew2, loss_fn, optimizer):\n",
        "    size = len(dataloader.dataset)\n",
        "    modelNew2.train()\n",
        "    for batch, (X, y) in enumerate(dataloader):\n",
        "        X, y = X.to(device), y.to(device)\n",
        "\n",
        "        # Compute prediction error\n",
        "        pred = modelNew2(X)\n",
        "        loss = loss_fn(pred, y)\n",
        "\n",
        "        # Backpropagation\n",
        "        loss.backward()\n",
        "        optimizer.step()\n",
        "        optimizer.zero_grad()\n",
        "\n",
        "        if batch % 100 == 0:\n",
        "            loss, current = loss.item(), (batch + 1) * len(X)\n",
        "            print(f\"loss: {loss:>7f}  [{current:>5d}/{size:>5d}]\")"
      ],
      "metadata": {
        "id": "ShDdre7drlSS"
      },
      "execution_count": 37,
      "outputs": []
    },
    {
      "cell_type": "code",
      "source": [
        "epochs = 30 #increase epochs 10 -> 15\n",
        "for t in range(epochs):\n",
        "    print(f\"Epoch {t+1}\\n-------------------------------\")\n",
        "    train(train_dataloader, modelNew2, loss_fn, optimizer)\n",
        "    test(test_dataloader, modelNew2, loss_fn)\n",
        "print(\"Done!\")"
      ],
      "metadata": {
        "colab": {
          "base_uri": "https://localhost:8080/",
          "height": 0
        },
        "id": "SXCDTkONFacE",
        "outputId": "d4b94abf-9335-4e83-86ca-25b031436c97"
      },
      "execution_count": 39,
      "outputs": [
        {
          "output_type": "stream",
          "name": "stdout",
          "text": [
            "Epoch 1\n",
            "-------------------------------\n",
            "loss: 2.298455  [   64/60000]\n",
            "loss: 2.288244  [ 6464/60000]\n",
            "loss: 2.268312  [12864/60000]\n",
            "loss: 2.265350  [19264/60000]\n",
            "loss: 2.244666  [25664/60000]\n",
            "loss: 2.215292  [32064/60000]\n",
            "loss: 2.225639  [38464/60000]\n",
            "loss: 2.189424  [44864/60000]\n",
            "loss: 2.189457  [51264/60000]\n",
            "loss: 2.156323  [57664/60000]\n",
            "Test Error: \n",
            " Accuracy: 47.2%, Avg loss: 2.148527 \n",
            "\n",
            "Epoch 2\n",
            "-------------------------------\n",
            "loss: 2.163759  [   64/60000]\n",
            "loss: 2.151938  [ 6464/60000]\n",
            "loss: 2.088949  [12864/60000]\n",
            "loss: 2.104005  [19264/60000]\n",
            "loss: 2.047206  [25664/60000]\n",
            "loss: 1.986835  [32064/60000]\n",
            "loss: 2.011130  [38464/60000]\n",
            "loss: 1.924229  [44864/60000]\n",
            "loss: 1.926486  [51264/60000]\n",
            "loss: 1.841476  [57664/60000]\n",
            "Test Error: \n",
            " Accuracy: 55.9%, Avg loss: 1.837495 \n",
            "\n",
            "Epoch 3\n",
            "-------------------------------\n",
            "loss: 1.882484  [   64/60000]\n",
            "loss: 1.841889  [ 6464/60000]\n",
            "loss: 1.703014  [12864/60000]\n",
            "loss: 1.739555  [19264/60000]\n",
            "loss: 1.611939  [25664/60000]\n",
            "loss: 1.572712  [32064/60000]\n",
            "loss: 1.581740  [38464/60000]\n",
            "loss: 1.478020  [44864/60000]\n",
            "loss: 1.496501  [51264/60000]\n",
            "loss: 1.388007  [57664/60000]\n",
            "Test Error: \n",
            " Accuracy: 61.0%, Avg loss: 1.404797 \n",
            "\n",
            "Epoch 4\n",
            "-------------------------------\n",
            "loss: 1.482123  [   64/60000]\n",
            "loss: 1.449226  [ 6464/60000]\n",
            "loss: 1.278908  [12864/60000]\n",
            "loss: 1.359122  [19264/60000]\n",
            "loss: 1.227523  [25664/60000]\n",
            "loss: 1.240733  [32064/60000]\n",
            "loss: 1.254757  [38464/60000]\n",
            "loss: 1.174869  [44864/60000]\n",
            "loss: 1.205554  [51264/60000]\n",
            "loss: 1.124730  [57664/60000]\n",
            "Test Error: \n",
            " Accuracy: 63.9%, Avg loss: 1.138379 \n",
            "\n",
            "Epoch 5\n",
            "-------------------------------\n",
            "loss: 1.210024  [   64/60000]\n",
            "loss: 1.210757  [ 6464/60000]\n",
            "loss: 1.021645  [12864/60000]\n",
            "loss: 1.146437  [19264/60000]\n",
            "loss: 1.010610  [25664/60000]\n",
            "loss: 1.043599  [32064/60000]\n",
            "loss: 1.079092  [38464/60000]\n",
            "loss: 1.004902  [44864/60000]\n",
            "loss: 1.041007  [51264/60000]\n",
            "loss: 0.982144  [57664/60000]\n",
            "Test Error: \n",
            " Accuracy: 65.4%, Avg loss: 0.987714 \n",
            "\n",
            "Epoch 6\n",
            "-------------------------------\n",
            "loss: 1.041275  [   64/60000]\n",
            "loss: 1.075976  [ 6464/60000]\n",
            "loss: 0.864070  [12864/60000]\n",
            "loss: 1.020748  [19264/60000]\n",
            "loss: 0.889037  [25664/60000]\n",
            "loss: 0.917080  [32064/60000]\n",
            "loss: 0.976816  [38464/60000]\n",
            "loss: 0.905536  [44864/60000]\n",
            "loss: 0.936994  [51264/60000]\n",
            "loss: 0.895467  [57664/60000]\n",
            "Test Error: \n",
            " Accuracy: 67.1%, Avg loss: 0.894874 \n",
            "\n",
            "Epoch 7\n",
            "-------------------------------\n",
            "loss: 0.926796  [   64/60000]\n",
            "loss: 0.990798  [ 6464/60000]\n",
            "loss: 0.760622  [12864/60000]\n",
            "loss: 0.938249  [19264/60000]\n",
            "loss: 0.816348  [25664/60000]\n",
            "loss: 0.830868  [32064/60000]\n",
            "loss: 0.910594  [38464/60000]\n",
            "loss: 0.845253  [44864/60000]\n",
            "loss: 0.867237  [51264/60000]\n",
            "loss: 0.836544  [57664/60000]\n",
            "Test Error: \n",
            " Accuracy: 68.9%, Avg loss: 0.832581 \n",
            "\n",
            "Epoch 8\n",
            "-------------------------------\n",
            "loss: 0.844155  [   64/60000]\n",
            "loss: 0.929134  [ 6464/60000]\n",
            "loss: 0.687970  [12864/60000]\n",
            "loss: 0.879692  [19264/60000]\n",
            "loss: 0.768578  [25664/60000]\n",
            "loss: 0.769898  [32064/60000]\n",
            "loss: 0.862352  [38464/60000]\n",
            "loss: 0.805942  [44864/60000]\n",
            "loss: 0.818188  [51264/60000]\n",
            "loss: 0.792660  [57664/60000]\n",
            "Test Error: \n",
            " Accuracy: 70.9%, Avg loss: 0.787220 \n",
            "\n",
            "Epoch 9\n",
            "-------------------------------\n",
            "loss: 0.780784  [   64/60000]\n",
            "loss: 0.879353  [ 6464/60000]\n",
            "loss: 0.633629  [12864/60000]\n",
            "loss: 0.835820  [19264/60000]\n",
            "loss: 0.733902  [25664/60000]\n",
            "loss: 0.725424  [32064/60000]\n",
            "loss: 0.823595  [38464/60000]\n",
            "loss: 0.777718  [44864/60000]\n",
            "loss: 0.781821  [51264/60000]\n",
            "loss: 0.757527  [57664/60000]\n",
            "Test Error: \n",
            " Accuracy: 72.5%, Avg loss: 0.751664 \n",
            "\n",
            "Epoch 10\n",
            "-------------------------------\n",
            "loss: 0.729627  [   64/60000]\n",
            "loss: 0.836373  [ 6464/60000]\n",
            "loss: 0.591064  [12864/60000]\n",
            "loss: 0.801634  [19264/60000]\n",
            "loss: 0.706681  [25664/60000]\n",
            "loss: 0.691840  [32064/60000]\n",
            "loss: 0.790044  [38464/60000]\n",
            "loss: 0.755153  [44864/60000]\n",
            "loss: 0.753256  [51264/60000]\n",
            "loss: 0.727870  [57664/60000]\n",
            "Test Error: \n",
            " Accuracy: 73.9%, Avg loss: 0.722042 \n",
            "\n",
            "Epoch 11\n",
            "-------------------------------\n",
            "loss: 0.686743  [   64/60000]\n",
            "loss: 0.798136  [ 6464/60000]\n",
            "loss: 0.556191  [12864/60000]\n",
            "loss: 0.773894  [19264/60000]\n",
            "loss: 0.684217  [25664/60000]\n",
            "loss: 0.665542  [32064/60000]\n",
            "loss: 0.759793  [38464/60000]\n",
            "loss: 0.735911  [44864/60000]\n",
            "loss: 0.729869  [51264/60000]\n",
            "loss: 0.701916  [57664/60000]\n",
            "Test Error: \n",
            " Accuracy: 75.2%, Avg loss: 0.696265 \n",
            "\n",
            "Epoch 12\n",
            "-------------------------------\n",
            "loss: 0.649781  [   64/60000]\n",
            "loss: 0.763764  [ 6464/60000]\n",
            "loss: 0.526844  [12864/60000]\n",
            "loss: 0.750615  [19264/60000]\n",
            "loss: 0.665150  [25664/60000]\n",
            "loss: 0.644279  [32064/60000]\n",
            "loss: 0.731974  [38464/60000]\n",
            "loss: 0.718885  [44864/60000]\n",
            "loss: 0.710176  [51264/60000]\n",
            "loss: 0.678631  [57664/60000]\n",
            "Test Error: \n",
            " Accuracy: 76.5%, Avg loss: 0.673288 \n",
            "\n",
            "Epoch 13\n",
            "-------------------------------\n",
            "loss: 0.617340  [   64/60000]\n",
            "loss: 0.732882  [ 6464/60000]\n",
            "loss: 0.501715  [12864/60000]\n",
            "loss: 0.730484  [19264/60000]\n",
            "loss: 0.648835  [25664/60000]\n",
            "loss: 0.626774  [32064/60000]\n",
            "loss: 0.706200  [38464/60000]\n",
            "loss: 0.703812  [44864/60000]\n",
            "loss: 0.693475  [51264/60000]\n",
            "loss: 0.657452  [57664/60000]\n",
            "Test Error: \n",
            " Accuracy: 77.3%, Avg loss: 0.652660 \n",
            "\n",
            "Epoch 14\n",
            "-------------------------------\n",
            "loss: 0.588733  [   64/60000]\n",
            "loss: 0.705275  [ 6464/60000]\n",
            "loss: 0.479907  [12864/60000]\n",
            "loss: 0.712717  [19264/60000]\n",
            "loss: 0.635008  [25664/60000]\n",
            "loss: 0.612040  [32064/60000]\n",
            "loss: 0.682482  [38464/60000]\n",
            "loss: 0.690822  [44864/60000]\n",
            "loss: 0.679530  [51264/60000]\n",
            "loss: 0.638231  [57664/60000]\n",
            "Test Error: \n",
            " Accuracy: 78.1%, Avg loss: 0.634156 \n",
            "\n",
            "Epoch 15\n",
            "-------------------------------\n",
            "loss: 0.563478  [   64/60000]\n",
            "loss: 0.680710  [ 6464/60000]\n",
            "loss: 0.460905  [12864/60000]\n",
            "loss: 0.696803  [19264/60000]\n",
            "loss: 0.623248  [25664/60000]\n",
            "loss: 0.599529  [32064/60000]\n",
            "loss: 0.660747  [38464/60000]\n",
            "loss: 0.679943  [44864/60000]\n",
            "loss: 0.668050  [51264/60000]\n",
            "loss: 0.620677  [57664/60000]\n",
            "Test Error: \n",
            " Accuracy: 78.7%, Avg loss: 0.617625 \n",
            "\n",
            "Epoch 16\n",
            "-------------------------------\n",
            "loss: 0.541150  [   64/60000]\n",
            "loss: 0.658880  [ 6464/60000]\n",
            "loss: 0.444311  [12864/60000]\n",
            "loss: 0.682520  [19264/60000]\n",
            "loss: 0.613200  [25664/60000]\n",
            "loss: 0.588741  [32064/60000]\n",
            "loss: 0.640966  [38464/60000]\n",
            "loss: 0.671271  [44864/60000]\n",
            "loss: 0.658662  [51264/60000]\n",
            "loss: 0.604511  [57664/60000]\n",
            "Test Error: \n",
            " Accuracy: 79.1%, Avg loss: 0.602906 \n",
            "\n",
            "Epoch 17\n",
            "-------------------------------\n",
            "loss: 0.521304  [   64/60000]\n",
            "loss: 0.639565  [ 6464/60000]\n",
            "loss: 0.429762  [12864/60000]\n",
            "loss: 0.669623  [19264/60000]\n",
            "loss: 0.604458  [25664/60000]\n",
            "loss: 0.579242  [32064/60000]\n",
            "loss: 0.623123  [38464/60000]\n",
            "loss: 0.664710  [44864/60000]\n",
            "loss: 0.651126  [51264/60000]\n",
            "loss: 0.589506  [57664/60000]\n",
            "Test Error: \n",
            " Accuracy: 79.5%, Avg loss: 0.589816 \n",
            "\n",
            "Epoch 18\n",
            "-------------------------------\n",
            "loss: 0.503569  [   64/60000]\n",
            "loss: 0.622477  [ 6464/60000]\n",
            "loss: 0.416895  [12864/60000]\n",
            "loss: 0.657783  [19264/60000]\n",
            "loss: 0.596523  [25664/60000]\n",
            "loss: 0.570771  [32064/60000]\n",
            "loss: 0.607112  [38464/60000]\n",
            "loss: 0.660008  [44864/60000]\n",
            "loss: 0.645029  [51264/60000]\n",
            "loss: 0.575440  [57664/60000]\n",
            "Test Error: \n",
            " Accuracy: 80.1%, Avg loss: 0.578166 \n",
            "\n",
            "Epoch 19\n",
            "-------------------------------\n",
            "loss: 0.487557  [   64/60000]\n",
            "loss: 0.607348  [ 6464/60000]\n",
            "loss: 0.405422  [12864/60000]\n",
            "loss: 0.646887  [19264/60000]\n",
            "loss: 0.589085  [25664/60000]\n",
            "loss: 0.563024  [32064/60000]\n",
            "loss: 0.592758  [38464/60000]\n",
            "loss: 0.656961  [44864/60000]\n",
            "loss: 0.640073  [51264/60000]\n",
            "loss: 0.562104  [57664/60000]\n",
            "Test Error: \n",
            " Accuracy: 80.4%, Avg loss: 0.567756 \n",
            "\n",
            "Epoch 20\n",
            "-------------------------------\n",
            "loss: 0.472982  [   64/60000]\n",
            "loss: 0.593869  [ 6464/60000]\n",
            "loss: 0.395113  [12864/60000]\n",
            "loss: 0.636797  [19264/60000]\n",
            "loss: 0.581998  [25664/60000]\n",
            "loss: 0.555792  [32064/60000]\n",
            "loss: 0.579910  [38464/60000]\n",
            "loss: 0.655274  [44864/60000]\n",
            "loss: 0.636034  [51264/60000]\n",
            "loss: 0.549437  [57664/60000]\n",
            "Test Error: \n",
            " Accuracy: 80.5%, Avg loss: 0.558416 \n",
            "\n",
            "Epoch 21\n",
            "-------------------------------\n",
            "loss: 0.459579  [   64/60000]\n",
            "loss: 0.581822  [ 6464/60000]\n",
            "loss: 0.385737  [12864/60000]\n",
            "loss: 0.627381  [19264/60000]\n",
            "loss: 0.575069  [25664/60000]\n",
            "loss: 0.548874  [32064/60000]\n",
            "loss: 0.568378  [38464/60000]\n",
            "loss: 0.654633  [44864/60000]\n",
            "loss: 0.632626  [51264/60000]\n",
            "loss: 0.537367  [57664/60000]\n",
            "Test Error: \n",
            " Accuracy: 80.6%, Avg loss: 0.549993 \n",
            "\n",
            "Epoch 22\n",
            "-------------------------------\n",
            "loss: 0.447173  [   64/60000]\n",
            "loss: 0.570967  [ 6464/60000]\n",
            "loss: 0.377149  [12864/60000]\n",
            "loss: 0.618561  [19264/60000]\n",
            "loss: 0.568172  [25664/60000]\n",
            "loss: 0.542151  [32064/60000]\n",
            "loss: 0.558087  [38464/60000]\n",
            "loss: 0.654801  [44864/60000]\n",
            "loss: 0.629683  [51264/60000]\n",
            "loss: 0.525860  [57664/60000]\n",
            "Test Error: \n",
            " Accuracy: 80.8%, Avg loss: 0.542364 \n",
            "\n",
            "Epoch 23\n",
            "-------------------------------\n",
            "loss: 0.435655  [   64/60000]\n",
            "loss: 0.561225  [ 6464/60000]\n",
            "loss: 0.369279  [12864/60000]\n",
            "loss: 0.610232  [19264/60000]\n",
            "loss: 0.561275  [25664/60000]\n",
            "loss: 0.535557  [32064/60000]\n",
            "loss: 0.548784  [38464/60000]\n",
            "loss: 0.655543  [44864/60000]\n",
            "loss: 0.627094  [51264/60000]\n",
            "loss: 0.514858  [57664/60000]\n",
            "Test Error: \n",
            " Accuracy: 81.0%, Avg loss: 0.535424 \n",
            "\n",
            "Epoch 24\n",
            "-------------------------------\n",
            "loss: 0.424892  [   64/60000]\n",
            "loss: 0.552449  [ 6464/60000]\n",
            "loss: 0.362020  [12864/60000]\n",
            "loss: 0.602385  [19264/60000]\n",
            "loss: 0.554365  [25664/60000]\n",
            "loss: 0.529059  [32064/60000]\n",
            "loss: 0.540426  [38464/60000]\n",
            "loss: 0.656717  [44864/60000]\n",
            "loss: 0.624693  [51264/60000]\n",
            "loss: 0.504339  [57664/60000]\n",
            "Test Error: \n",
            " Accuracy: 81.3%, Avg loss: 0.529079 \n",
            "\n",
            "Epoch 25\n",
            "-------------------------------\n",
            "loss: 0.414842  [   64/60000]\n",
            "loss: 0.544531  [ 6464/60000]\n",
            "loss: 0.355325  [12864/60000]\n",
            "loss: 0.594954  [19264/60000]\n",
            "loss: 0.547472  [25664/60000]\n",
            "loss: 0.522585  [32064/60000]\n",
            "loss: 0.532852  [38464/60000]\n",
            "loss: 0.658099  [44864/60000]\n",
            "loss: 0.622341  [51264/60000]\n",
            "loss: 0.494308  [57664/60000]\n",
            "Test Error: \n",
            " Accuracy: 81.5%, Avg loss: 0.523252 \n",
            "\n",
            "Epoch 26\n",
            "-------------------------------\n",
            "loss: 0.405384  [   64/60000]\n",
            "loss: 0.537369  [ 6464/60000]\n",
            "loss: 0.349072  [12864/60000]\n",
            "loss: 0.587874  [19264/60000]\n",
            "loss: 0.540636  [25664/60000]\n",
            "loss: 0.516181  [32064/60000]\n",
            "loss: 0.525901  [38464/60000]\n",
            "loss: 0.659526  [44864/60000]\n",
            "loss: 0.619946  [51264/60000]\n",
            "loss: 0.484818  [57664/60000]\n",
            "Test Error: \n",
            " Accuracy: 81.7%, Avg loss: 0.517893 \n",
            "\n",
            "Epoch 27\n",
            "-------------------------------\n",
            "loss: 0.396505  [   64/60000]\n",
            "loss: 0.530883  [ 6464/60000]\n",
            "loss: 0.343256  [12864/60000]\n",
            "loss: 0.581114  [19264/60000]\n",
            "loss: 0.533870  [25664/60000]\n",
            "loss: 0.509935  [32064/60000]\n",
            "loss: 0.519519  [38464/60000]\n",
            "loss: 0.660885  [44864/60000]\n",
            "loss: 0.617487  [51264/60000]\n",
            "loss: 0.475881  [57664/60000]\n",
            "Test Error: \n",
            " Accuracy: 81.8%, Avg loss: 0.512942 \n",
            "\n",
            "Epoch 28\n",
            "-------------------------------\n",
            "loss: 0.388148  [   64/60000]\n",
            "loss: 0.524963  [ 6464/60000]\n",
            "loss: 0.337825  [12864/60000]\n",
            "loss: 0.574673  [19264/60000]\n",
            "loss: 0.527180  [25664/60000]\n",
            "loss: 0.503839  [32064/60000]\n",
            "loss: 0.513625  [38464/60000]\n",
            "loss: 0.662063  [44864/60000]\n",
            "loss: 0.614930  [51264/60000]\n",
            "loss: 0.467539  [57664/60000]\n",
            "Test Error: \n",
            " Accuracy: 81.9%, Avg loss: 0.508363 \n",
            "\n",
            "Epoch 29\n",
            "-------------------------------\n",
            "loss: 0.380269  [   64/60000]\n",
            "loss: 0.519518  [ 6464/60000]\n",
            "loss: 0.332744  [12864/60000]\n",
            "loss: 0.568532  [19264/60000]\n",
            "loss: 0.520633  [25664/60000]\n",
            "loss: 0.497907  [32064/60000]\n",
            "loss: 0.508195  [38464/60000]\n",
            "loss: 0.662953  [44864/60000]\n",
            "loss: 0.612300  [51264/60000]\n",
            "loss: 0.459696  [57664/60000]\n",
            "Test Error: \n",
            " Accuracy: 82.0%, Avg loss: 0.504107 \n",
            "\n",
            "Epoch 30\n",
            "-------------------------------\n",
            "loss: 0.372784  [   64/60000]\n",
            "loss: 0.514526  [ 6464/60000]\n",
            "loss: 0.327961  [12864/60000]\n",
            "loss: 0.562663  [19264/60000]\n",
            "loss: 0.514253  [25664/60000]\n",
            "loss: 0.492183  [32064/60000]\n",
            "loss: 0.503107  [38464/60000]\n",
            "loss: 0.663544  [44864/60000]\n",
            "loss: 0.609591  [51264/60000]\n",
            "loss: 0.452428  [57664/60000]\n",
            "Test Error: \n",
            " Accuracy: 82.1%, Avg loss: 0.500136 \n",
            "\n",
            "Done!\n"
          ]
        }
      ]
    },
    {
      "cell_type": "code",
      "source": [
        "import matplotlib.pyplot as plt\n",
        "\n",
        "def find_and_display_errors(modelNew2, dataloader, device):\n",
        "    modelNew2.eval()  #set the model to evaluation mode\n",
        "    errors_found = 0\n",
        "\n",
        "    #iterate through the dataloader\n",
        "    for inputs, labels in dataloader:\n",
        "        inputs, labels = inputs.to(device), labels.to(device)\n",
        "        outputs = modelNew2(inputs)\n",
        "        _, predictions = torch.max(outputs, 1)  #predicted class\n",
        "\n",
        "        #find errors\n",
        "        mismatches = predictions != labels\n",
        "        if mismatches.any():\n",
        "            for i in range(len(inputs)):\n",
        "                if mismatches[i]:\n",
        "                    img = inputs[i] #display image, ground truth, and prediction\n",
        "                    ground_truth = labels[i].item()\n",
        "                    prediction = predictions[i].item()\n",
        "\n",
        "                    #convert the image and display\n",
        "                    image_np = img.permute(1, 2, 0).cpu().numpy()\n",
        "                    plt.imshow(image_np)\n",
        "                    plt.axis('off')\n",
        "                    plt.title(f\"Ground Truth: {ground_truth}, Prediction: {prediction}\")\n",
        "                    plt.show()\n",
        "\n",
        "                    errors_found += 1\n",
        "                    if errors_found >= 3:  #find 3 errors\n",
        "                        return\n",
        "#test on modelNew2\n",
        "find_and_display_errors(modelNew2, test_dataloader, device)\n"
      ],
      "metadata": {
        "colab": {
          "base_uri": "https://localhost:8080/",
          "height": 1250
        },
        "id": "9RnWOYo36M0V",
        "outputId": "2dd6ace4-382b-462a-eb5e-b7f5b0a68e31"
      },
      "execution_count": 40,
      "outputs": [
        {
          "output_type": "display_data",
          "data": {
            "text/plain": [
              "<Figure size 640x480 with 1 Axes>"
            ],
            "image/png": "[encoded data removed]"
          },
          "metadata": {}
        },
        {
          "output_type": "display_data",
          "data": {
            "text/plain": [
              "<Figure size 640x480 with 1 Axes>"
            ],
            "image/png": "[encoded data removed]"
          },
          "metadata": {}
        },
        {
          "output_type": "display_data",
          "data": {
            "text/plain": [
              "<Figure size 640x480 with 1 Axes>"
            ],
            "image/png": "[encoded data removed]"
          },
          "metadata": {}
        }
      ]
    },
    {
      "cell_type": "markdown",
      "source": [
        "Looking at these images, these are reasonable mistakes. For example, when I (a human) look the first image, I see that it is a shoe of some sort. The NN mistaked the sneaker for scandel. I think this is a reasonable error since I myself was not able to conclude what type of footwear the image is depicting. Simiraly, while viewing the following two images, I cannot even tell what either item is, therefore the errors are reasonable."
      ],
      "metadata": {
        "id": "zZbcKpQH7ZM0"
      }
    }
  ],
  "metadata": {
    "kernelspec": {
      "display_name": "Python 3",
      "name": "python3"
    },
    "language_info": {
      "codemirror_mode": {
        "name": "ipython",
        "version": 3
      },
      "file_extension": ".py",
      "mimetype": "text/x-python",
      "name": "python",
      "nbconvert_exporter": "python",
      "pygments_lexer": "ipython3",
      "version": "3.10.12"
    },
    "colab": {
      "provenance": [],
      "gpuType": "T4"
    },
    "accelerator": "GPU"
  },
  "nbformat": 4,
  "nbformat_minor": 0
}